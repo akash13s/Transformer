{
 "cells": [
  {
   "cell_type": "code",
   "id": "cc9b1f86",
   "metadata": {
    "ExecuteTime": {
     "end_time": "2024-06-08T00:29:31.545004Z",
     "start_time": "2024-06-08T00:29:27.687923Z"
    }
   },
   "source": [
    "!pip install torch"
   ],
   "outputs": [
    {
     "name": "stdout",
     "output_type": "stream",
     "text": [
      "Requirement already satisfied: torch in /Users/akashshrivastva/anaconda3/lib/python3.11/site-packages (2.3.1)\r\n",
      "Requirement already satisfied: filelock in /Users/akashshrivastva/anaconda3/lib/python3.11/site-packages (from torch) (3.9.0)\r\n",
      "Requirement already satisfied: typing-extensions>=4.8.0 in /Users/akashshrivastva/anaconda3/lib/python3.11/site-packages (from torch) (4.12.1)\r\n",
      "Requirement already satisfied: sympy in /Users/akashshrivastva/anaconda3/lib/python3.11/site-packages (from torch) (1.11.1)\r\n",
      "Requirement already satisfied: networkx in /Users/akashshrivastva/anaconda3/lib/python3.11/site-packages (from torch) (3.1)\r\n",
      "Requirement already satisfied: jinja2 in /Users/akashshrivastva/anaconda3/lib/python3.11/site-packages (from torch) (3.1.2)\r\n",
      "Requirement already satisfied: fsspec in /Users/akashshrivastva/anaconda3/lib/python3.11/site-packages (from torch) (2023.4.0)\r\n",
      "Requirement already satisfied: MarkupSafe>=2.0 in /Users/akashshrivastva/anaconda3/lib/python3.11/site-packages (from jinja2->torch) (2.1.1)\r\n",
      "Requirement already satisfied: mpmath>=0.19 in /Users/akashshrivastva/anaconda3/lib/python3.11/site-packages (from sympy->torch) (1.3.0)\r\n"
     ]
    }
   ],
   "execution_count": 22
  },
  {
   "cell_type": "code",
   "id": "3a962ee5",
   "metadata": {
    "tags": [],
    "ExecuteTime": {
     "end_time": "2024-06-08T00:31:52.056737Z",
     "start_time": "2024-06-08T00:31:52.050892Z"
    }
   },
   "source": [
    "import torch\n",
    "import torch.nn as nn\n",
    "import torch.optim as optim\n",
    "import torch.utils.data as data\n",
    "import math\n",
    "import copy"
   ],
   "outputs": [],
   "execution_count": 33
  },
  {
   "cell_type": "code",
   "id": "8854aff8",
   "metadata": {
    "tags": [],
    "ExecuteTime": {
     "end_time": "2024-06-08T00:31:52.814981Z",
     "start_time": "2024-06-08T00:31:52.804983Z"
    }
   },
   "source": [
    "class MultiHeadAttention(nn.Module):\n",
    "    def __init__(self, d_model, num_heads):\n",
    "        super(MultiHeadAttention, self).__init__()\n",
    "        assert d_model % num_heads == 0, \"d_model must be divisible by num_heads\"\n",
    "        \n",
    "        self.d_model = d_model\n",
    "        self.num_heads = num_heads\n",
    "        self.d_k = d_model // num_heads\n",
    "        \n",
    "        self.W_q = nn.Linear(d_model, d_model)\n",
    "        self.W_k = nn.Linear(d_model, d_model)\n",
    "        self.W_v = nn.Linear(d_model, d_model)\n",
    "        self.W_o = nn.Linear(d_model, d_model)\n",
    "\n",
    "    def scaled_dot_product_attention(self, Q, K, V, mask = None):\n",
    "        # take dot product of Q and K transpose\n",
    "        attn_scores = torch.matmul(Q, K.transpose(-1, -2)) / math.sqrt(self.d_k)\n",
    "        \n",
    "        # apply mask\n",
    "        if mask is not None:\n",
    "            attn_scores = attn_scores.masked_fill(mask == 0, -1e9)\n",
    "        \n",
    "        # pass through softmax layer\n",
    "        attn_probs = torch.softmax(attn_scores, dim=-1)\n",
    "        \n",
    "        # take dot product of attn_probs and V\n",
    "        output = torch.matmul(attn_probs, V)\n",
    "        return output\n",
    "    \n",
    "    \"\"\"\n",
    "    Reshaping input tensors:\n",
    "        input: [batch_size x seq_length x d_model]\n",
    "        output: [batch_size x num_heads x seq_length x dim_per_head] \n",
    "    \"\"\"\n",
    "    def split_heads(self, x):\n",
    "        batch_size, seq_length, d_model = x.size()\n",
    "        return x.view(batch_size, seq_length, self.num_heads, self.d_k).transpose(1, 2)\n",
    "    \n",
    "    \"\"\"\n",
    "    Reshaping input tensors:\n",
    "        input: [batch_size x num_heads x seq_length x dim_per_head] \n",
    "        output: [batch_size x seq_length x d_model]\n",
    "    \"\"\"\n",
    "    def combine_heads(self, x):\n",
    "        batch_size, _, seq_length, d_k = x.size()\n",
    "        return x.transpose(1, 2).contiguous().view(batch_size, seq_length, self.d_model)\n",
    "    \n",
    "    def forward(self, Q, K, V, mask = None):\n",
    "        # reshape input tensors\n",
    "        Q = self.split_heads(self.W_q(Q))\n",
    "        K = self.split_heads(self.W_k(K))\n",
    "        V = self.split_heads(self.W_v(V))\n",
    "        \n",
    "        # dot product\n",
    "        attn_output = self.scaled_dot_product_attention(Q, K, V, mask)\n",
    "        \n",
    "        # combine heads\n",
    "        output = self.W_o(self.combine_heads(attn_output))\n",
    "        \n",
    "        return output\n",
    "    "
   ],
   "outputs": [],
   "execution_count": 34
  },
  {
   "cell_type": "code",
   "id": "256286cf-5abd-426a-946c-131c3f92b22a",
   "metadata": {
    "ExecuteTime": {
     "end_time": "2024-06-08T00:31:53.557989Z",
     "start_time": "2024-06-08T00:31:53.546152Z"
    }
   },
   "source": [
    "class PositionWiseFeedForward(nn.Module):\n",
    "    def __init__(self, d_model, d_ff):\n",
    "        super(PositionWiseFeedForward, self).__init__()\n",
    "        self.fc1 = nn.Linear(d_model, d_ff)\n",
    "        self.fc2 = nn.Linear(d_ff, d_model)\n",
    "        \n",
    "        self.relu = nn.ReLU()\n",
    "        \n",
    "    def forward(self, x):\n",
    "        return self.fc2(self.relu(self.fc1(x)))"
   ],
   "outputs": [],
   "execution_count": 35
  },
  {
   "metadata": {
    "ExecuteTime": {
     "end_time": "2024-06-08T00:31:54.112693Z",
     "start_time": "2024-06-08T00:31:54.107978Z"
    }
   },
   "cell_type": "code",
   "source": [
    "class PositionalEncoding(nn.Module):\n",
    "    def __init__(self, d_model, max_seq_length):\n",
    "        super(PositionalEncoding, self).__init__()\n",
    "        \n",
    "        pe = torch.zeros(max_seq_length, d_model)\n",
    "        position = torch.arange(0, max_seq_length, dtype=torch.float).unsqueeze(1)\n",
    "        div_term = torch.exp(torch.arange(0, d_model, 2).float() * -(math.log(10000.0)/d_model))\n",
    "            \n",
    "        # Apply sin to even columns and cos to odd columns of pe\n",
    "        pe[:, 0::2] = torch.sin(position * div_term)\n",
    "        pe[:, 1:: 2] = torch.cos(position * div_term)\n",
    "        \n",
    "        self.register_buffer('pe', pe.unsqueeze(0))\n",
    "        \n",
    "    def forward(self, x):\n",
    "        return x + self.pe[:, :x.size(1)]\n",
    "        "
   ],
   "id": "d90c91f04cf233f4",
   "outputs": [],
   "execution_count": 36
  },
  {
   "metadata": {
    "ExecuteTime": {
     "end_time": "2024-06-08T00:31:55.167333Z",
     "start_time": "2024-06-08T00:31:55.161770Z"
    }
   },
   "cell_type": "code",
   "source": [
    "class EncoderLayer(nn.Module):\n",
    "    def __init__(self, d_model, num_heads, d_ff, dropout):\n",
    "        super(EncoderLayer, self).__init__()\n",
    "        self.self_attn = MultiHeadAttention(d_model, num_heads)\n",
    "        self.feed_forward = PositionWiseFeedForward(d_model, d_ff)\n",
    "        self.norm1 = nn.LayerNorm(d_model)\n",
    "        self.norm2 = nn.LayerNorm(d_model)\n",
    "        self.dropout = nn.Dropout(dropout)\n",
    "        \n",
    "    def forward(self, x, mask):\n",
    "        # pass through attention block\n",
    "        attn_output = self.self_attn(x, x, x, mask)\n",
    "        \n",
    "        # add and norm\n",
    "        x = self.norm1(x + self.dropout(attn_output))\n",
    "        \n",
    "        # pass through feed forward layer\n",
    "        ff_output = self.feed_forward(x)\n",
    "        \n",
    "        # add and norm\n",
    "        x = self.norm2( x + self.dropout(ff_output))\n",
    "        \n",
    "        return x"
   ],
   "id": "d039ac9e49fb853e",
   "outputs": [],
   "execution_count": 37
  },
  {
   "metadata": {
    "ExecuteTime": {
     "end_time": "2024-06-08T00:31:56.176472Z",
     "start_time": "2024-06-08T00:31:56.171087Z"
    }
   },
   "cell_type": "code",
   "source": [
    "class DecoderLayer(nn.Module):\n",
    "    def __init__(self, d_model, num_heads, d_ff, dropout):\n",
    "        super(DecoderLayer, self).__init__()\n",
    "        self.self_attn = MultiHeadAttention(d_model, num_heads)\n",
    "        self.norm1 = nn.LayerNorm(d_model)\n",
    "        self.cross_attn = MultiHeadAttention(d_model, num_heads)\n",
    "        self.norm2 = nn.LayerNorm(d_model)\n",
    "        self.feed_forward = PositionWiseFeedForward(d_model, d_ff)\n",
    "        self.norm3 = nn.LayerNorm(d_model)\n",
    "        self.dropout = nn.Dropout(dropout)\n",
    "\n",
    "    def forward(self, x, enc_output, src_mask, tgt_mask):\n",
    "        # self attention of decoder input\n",
    "        attn_output = self.self_attn(x, x, x, tgt_mask)\n",
    "        \n",
    "        # add and norm\n",
    "        x = self.norm1(x + self.dropout(attn_output))\n",
    "\n",
    "        # cross attention\n",
    "        attn_output = self.cross_attn(x, enc_output, enc_output, src_mask)\n",
    "            \n",
    "        # add and norm\n",
    "        x = self.norm2(x + self.dropout(attn_output))\n",
    "\n",
    "        # pass through feed forward layer\n",
    "        ff_output = self.feed_forward(x)\n",
    "\n",
    "        # add and norm\n",
    "        x = self.norm3(x + self.dropout(ff_output))\n",
    "        \n",
    "        return x\n",
    "    "
   ],
   "id": "6eae87113d6824d1",
   "outputs": [],
   "execution_count": 38
  },
  {
   "metadata": {
    "ExecuteTime": {
     "end_time": "2024-06-08T00:31:56.804467Z",
     "start_time": "2024-06-08T00:31:56.795651Z"
    }
   },
   "cell_type": "code",
   "source": [
    "class Transformer(nn.Module):\n",
    "    def __init__(self, src_vocab_size, tgt_vocab_size, d_model, num_heads, \n",
    "                 num_layers, d_ff, max_seq_length, dropout):\n",
    "        super(Transformer, self).__init__()\n",
    "        self.encoder_embedding = nn.Embedding(src_vocab_size, d_model)\n",
    "        self.decoder_embedding = nn.Embedding(tgt_vocab_size, d_model)\n",
    "        self.positional_encoding = PositionalEncoding(d_model, max_seq_length)\n",
    "        \n",
    "        self.encoder_layers = nn.ModuleList([EncoderLayer(d_model, num_heads, d_ff, dropout) for _ in range(num_layers)])\n",
    "        self.decoder_layers = nn.ModuleList([DecoderLayer(d_model, num_heads, d_ff, dropout) for _ in range(num_layers)])\n",
    "        \n",
    "        self.fc = nn.Linear(d_model, tgt_vocab_size)\n",
    "        self.dropout = nn.Dropout(dropout)\n",
    "        \n",
    "    def generate_mask(self, src, tgt):\n",
    "        src_mask = (src != 0).unsqueeze(1).unsqueeze(2)\n",
    "        tgt_mask = (tgt != 0).unsqueeze(1).unsqueeze(3)\n",
    "        seq_length = tgt.size(1)\n",
    "        nopeak_mask = (1 - torch.triu(torch.ones(1, seq_length, seq_length), diagonal=1)).bool()\n",
    "        tgt_mask = tgt_mask & nopeak_mask\n",
    "        return src_mask, tgt_mask\n",
    "        \n",
    "    def forward(self, src, tgt):\n",
    "        src_mask, tgt_mask = self.generate_mask(src, tgt)\n",
    "        \n",
    "        src_embedded = self.dropout(self.positional_encoding(self.encoder_embedding(src)))\n",
    "        tgt_embedded = self.dropout(self.positional_encoding(self.decoder_embedding(tgt)))\n",
    "        \n",
    "        enc_output = src_embedded\n",
    "        for enc_layer in self.encoder_layers:\n",
    "            enc_output = enc_layer(enc_output, src_mask)\n",
    "            \n",
    "        dec_output = tgt_embedded\n",
    "        for dec_layer in self.decoder_layers:\n",
    "            dec_output = dec_layer(dec_output, enc_output, src_mask, tgt_mask)\n",
    "            \n",
    "        output = self.fc(dec_output)\n",
    "        return output\n",
    "        "
   ],
   "id": "a90197c56504772b",
   "outputs": [],
   "execution_count": 39
  },
  {
   "metadata": {
    "ExecuteTime": {
     "end_time": "2024-06-08T00:31:58.030403Z",
     "start_time": "2024-06-08T00:31:57.615815Z"
    }
   },
   "cell_type": "code",
   "source": [
    "src_vocab_size = 5000\n",
    "tgt_vocab_size = 5000\n",
    "d_model = 512\n",
    "num_heads = 8\n",
    "num_layers = 6\n",
    "d_ff = 2048\n",
    "max_seq_length = 100\n",
    "dropout = 0.1\n",
    "\n",
    "transformer = Transformer(src_vocab_size, tgt_vocab_size, d_model, num_heads, num_layers, d_ff, max_seq_length, dropout)\n",
    "\n",
    "# Generate random sample data\n",
    "src_data = torch.randint(1, src_vocab_size, (64, max_seq_length))  \n",
    "tgt_data = torch.randint(1, tgt_vocab_size, (64, max_seq_length))"
   ],
   "id": "7de8970e967c62f8",
   "outputs": [],
   "execution_count": 40
  },
  {
   "metadata": {
    "ExecuteTime": {
     "end_time": "2024-06-08T00:57:16.588598Z",
     "start_time": "2024-06-08T00:45:27.824439Z"
    }
   },
   "cell_type": "code",
   "source": [
    "criterion = nn.CrossEntropyLoss(ignore_index=0)\n",
    "optimizer = optim.Adam(transformer.parameters(), lr=0.0005, betas=(0.9, 0.98), eps=1e-9)\n",
    "\n",
    "transformer.train()\n",
    "\n",
    "for epoch in range(100):\n",
    "    optimizer.zero_grad()\n",
    "    output = transformer(src_data, tgt_data[:, :-1])\n",
    "    loss = criterion(output.contiguous().view(-1, tgt_vocab_size), tgt_data[:, 1:].contiguous().view(-1))\n",
    "    loss.backward()\n",
    "    optimizer.step()\n",
    "    print(f\"Epoch: {epoch+1}, Loss: {loss.item()}\")"
   ],
   "id": "e76a3b90d1790946",
   "outputs": [
    {
     "name": "stdout",
     "output_type": "stream",
     "text": [
      "Epoch: 1, Loss: 4.921694755554199\n",
      "Epoch: 2, Loss: 8.323627471923828\n",
      "Epoch: 3, Loss: 7.25517463684082\n",
      "Epoch: 4, Loss: 7.616508483886719\n",
      "Epoch: 5, Loss: 7.458904266357422\n",
      "Epoch: 6, Loss: 6.69974422454834\n",
      "Epoch: 7, Loss: 5.864558696746826\n",
      "Epoch: 8, Loss: 5.845470905303955\n",
      "Epoch: 9, Loss: 5.487013816833496\n",
      "Epoch: 10, Loss: 5.34512996673584\n",
      "Epoch: 11, Loss: 4.949604511260986\n",
      "Epoch: 12, Loss: 4.769575119018555\n",
      "Epoch: 13, Loss: 4.642838001251221\n",
      "Epoch: 14, Loss: 4.386444568634033\n",
      "Epoch: 15, Loss: 4.1618146896362305\n",
      "Epoch: 16, Loss: 3.967585802078247\n",
      "Epoch: 17, Loss: 3.75949764251709\n",
      "Epoch: 18, Loss: 3.56465744972229\n",
      "Epoch: 19, Loss: 3.3954079151153564\n",
      "Epoch: 20, Loss: 3.2228260040283203\n",
      "Epoch: 21, Loss: 3.0450968742370605\n",
      "Epoch: 22, Loss: 2.8847126960754395\n",
      "Epoch: 23, Loss: 2.7506606578826904\n",
      "Epoch: 24, Loss: 2.6438610553741455\n",
      "Epoch: 25, Loss: 2.5295629501342773\n",
      "Epoch: 26, Loss: 2.3643054962158203\n",
      "Epoch: 27, Loss: 2.2039811611175537\n",
      "Epoch: 28, Loss: 2.0622951984405518\n",
      "Epoch: 29, Loss: 1.9198945760726929\n",
      "Epoch: 30, Loss: 1.7687777280807495\n",
      "Epoch: 31, Loss: 1.6496922969818115\n",
      "Epoch: 32, Loss: 1.5262752771377563\n",
      "Epoch: 33, Loss: 1.4250855445861816\n",
      "Epoch: 34, Loss: 1.3101742267608643\n",
      "Epoch: 35, Loss: 1.1964476108551025\n",
      "Epoch: 36, Loss: 1.0976425409317017\n",
      "Epoch: 37, Loss: 1.0123125314712524\n",
      "Epoch: 38, Loss: 0.9267449975013733\n",
      "Epoch: 39, Loss: 0.8468868136405945\n",
      "Epoch: 40, Loss: 0.7751083970069885\n",
      "Epoch: 41, Loss: 0.7080539464950562\n",
      "Epoch: 42, Loss: 0.6396203637123108\n",
      "Epoch: 43, Loss: 0.5857478976249695\n",
      "Epoch: 44, Loss: 0.5309764742851257\n",
      "Epoch: 45, Loss: 0.4823429584503174\n",
      "Epoch: 46, Loss: 0.4397870600223541\n",
      "Epoch: 47, Loss: 0.39787572622299194\n",
      "Epoch: 48, Loss: 0.36512112617492676\n",
      "Epoch: 49, Loss: 0.3312314748764038\n",
      "Epoch: 50, Loss: 0.30352163314819336\n",
      "Epoch: 51, Loss: 0.27849647402763367\n",
      "Epoch: 52, Loss: 0.2537898123264313\n",
      "Epoch: 53, Loss: 0.23547323048114777\n",
      "Epoch: 54, Loss: 0.21957996487617493\n",
      "Epoch: 55, Loss: 0.2015739232301712\n",
      "Epoch: 56, Loss: 0.18689781427383423\n",
      "Epoch: 57, Loss: 0.17345541715621948\n",
      "Epoch: 58, Loss: 0.16320380568504333\n",
      "Epoch: 59, Loss: 0.1515088826417923\n",
      "Epoch: 60, Loss: 0.14179328083992004\n",
      "Epoch: 61, Loss: 0.13327234983444214\n",
      "Epoch: 62, Loss: 0.1255088597536087\n",
      "Epoch: 63, Loss: 0.11788054555654526\n",
      "Epoch: 64, Loss: 0.11259401589632034\n",
      "Epoch: 65, Loss: 0.10584557801485062\n",
      "Epoch: 66, Loss: 0.09955047816038132\n",
      "Epoch: 67, Loss: 0.09588850289583206\n",
      "Epoch: 68, Loss: 0.09062930941581726\n",
      "Epoch: 69, Loss: 0.08757952600717545\n",
      "Epoch: 70, Loss: 0.08228220045566559\n"
     ]
    },
    {
     "ename": "KeyboardInterrupt",
     "evalue": "",
     "output_type": "error",
     "traceback": [
      "\u001B[0;31m---------------------------------------------------------------------------\u001B[0m",
      "\u001B[0;31mKeyboardInterrupt\u001B[0m                         Traceback (most recent call last)",
      "Cell \u001B[0;32mIn[42], line 10\u001B[0m\n\u001B[1;32m      8\u001B[0m output \u001B[38;5;241m=\u001B[39m transformer(src_data, tgt_data[:, :\u001B[38;5;241m-\u001B[39m\u001B[38;5;241m1\u001B[39m])\n\u001B[1;32m      9\u001B[0m loss \u001B[38;5;241m=\u001B[39m criterion(output\u001B[38;5;241m.\u001B[39mcontiguous()\u001B[38;5;241m.\u001B[39mview(\u001B[38;5;241m-\u001B[39m\u001B[38;5;241m1\u001B[39m, tgt_vocab_size), tgt_data[:, \u001B[38;5;241m1\u001B[39m:]\u001B[38;5;241m.\u001B[39mcontiguous()\u001B[38;5;241m.\u001B[39mview(\u001B[38;5;241m-\u001B[39m\u001B[38;5;241m1\u001B[39m))\n\u001B[0;32m---> 10\u001B[0m loss\u001B[38;5;241m.\u001B[39mbackward()\n\u001B[1;32m     11\u001B[0m optimizer\u001B[38;5;241m.\u001B[39mstep()\n\u001B[1;32m     12\u001B[0m \u001B[38;5;28mprint\u001B[39m(\u001B[38;5;124mf\u001B[39m\u001B[38;5;124m\"\u001B[39m\u001B[38;5;124mEpoch: \u001B[39m\u001B[38;5;132;01m{\u001B[39;00mepoch\u001B[38;5;241m+\u001B[39m\u001B[38;5;241m1\u001B[39m\u001B[38;5;132;01m}\u001B[39;00m\u001B[38;5;124m, Loss: \u001B[39m\u001B[38;5;132;01m{\u001B[39;00mloss\u001B[38;5;241m.\u001B[39mitem()\u001B[38;5;132;01m}\u001B[39;00m\u001B[38;5;124m\"\u001B[39m)\n",
      "File \u001B[0;32m~/anaconda3/lib/python3.11/site-packages/torch/_tensor.py:525\u001B[0m, in \u001B[0;36mTensor.backward\u001B[0;34m(self, gradient, retain_graph, create_graph, inputs)\u001B[0m\n\u001B[1;32m    515\u001B[0m \u001B[38;5;28;01mif\u001B[39;00m has_torch_function_unary(\u001B[38;5;28mself\u001B[39m):\n\u001B[1;32m    516\u001B[0m     \u001B[38;5;28;01mreturn\u001B[39;00m handle_torch_function(\n\u001B[1;32m    517\u001B[0m         Tensor\u001B[38;5;241m.\u001B[39mbackward,\n\u001B[1;32m    518\u001B[0m         (\u001B[38;5;28mself\u001B[39m,),\n\u001B[0;32m   (...)\u001B[0m\n\u001B[1;32m    523\u001B[0m         inputs\u001B[38;5;241m=\u001B[39minputs,\n\u001B[1;32m    524\u001B[0m     )\n\u001B[0;32m--> 525\u001B[0m torch\u001B[38;5;241m.\u001B[39mautograd\u001B[38;5;241m.\u001B[39mbackward(\n\u001B[1;32m    526\u001B[0m     \u001B[38;5;28mself\u001B[39m, gradient, retain_graph, create_graph, inputs\u001B[38;5;241m=\u001B[39minputs\n\u001B[1;32m    527\u001B[0m )\n",
      "File \u001B[0;32m~/anaconda3/lib/python3.11/site-packages/torch/autograd/__init__.py:267\u001B[0m, in \u001B[0;36mbackward\u001B[0;34m(tensors, grad_tensors, retain_graph, create_graph, grad_variables, inputs)\u001B[0m\n\u001B[1;32m    262\u001B[0m     retain_graph \u001B[38;5;241m=\u001B[39m create_graph\n\u001B[1;32m    264\u001B[0m \u001B[38;5;66;03m# The reason we repeat the same comment below is that\u001B[39;00m\n\u001B[1;32m    265\u001B[0m \u001B[38;5;66;03m# some Python versions print out the first line of a multi-line function\u001B[39;00m\n\u001B[1;32m    266\u001B[0m \u001B[38;5;66;03m# calls in the traceback and some print out the last line\u001B[39;00m\n\u001B[0;32m--> 267\u001B[0m _engine_run_backward(\n\u001B[1;32m    268\u001B[0m     tensors,\n\u001B[1;32m    269\u001B[0m     grad_tensors_,\n\u001B[1;32m    270\u001B[0m     retain_graph,\n\u001B[1;32m    271\u001B[0m     create_graph,\n\u001B[1;32m    272\u001B[0m     inputs,\n\u001B[1;32m    273\u001B[0m     allow_unreachable\u001B[38;5;241m=\u001B[39m\u001B[38;5;28;01mTrue\u001B[39;00m,\n\u001B[1;32m    274\u001B[0m     accumulate_grad\u001B[38;5;241m=\u001B[39m\u001B[38;5;28;01mTrue\u001B[39;00m,\n\u001B[1;32m    275\u001B[0m )\n",
      "File \u001B[0;32m~/anaconda3/lib/python3.11/site-packages/torch/autograd/graph.py:744\u001B[0m, in \u001B[0;36m_engine_run_backward\u001B[0;34m(t_outputs, *args, **kwargs)\u001B[0m\n\u001B[1;32m    742\u001B[0m     unregister_hooks \u001B[38;5;241m=\u001B[39m _register_logging_hooks_on_whole_graph(t_outputs)\n\u001B[1;32m    743\u001B[0m \u001B[38;5;28;01mtry\u001B[39;00m:\n\u001B[0;32m--> 744\u001B[0m     \u001B[38;5;28;01mreturn\u001B[39;00m Variable\u001B[38;5;241m.\u001B[39m_execution_engine\u001B[38;5;241m.\u001B[39mrun_backward(  \u001B[38;5;66;03m# Calls into the C++ engine to run the backward pass\u001B[39;00m\n\u001B[1;32m    745\u001B[0m         t_outputs, \u001B[38;5;241m*\u001B[39margs, \u001B[38;5;241m*\u001B[39m\u001B[38;5;241m*\u001B[39mkwargs\n\u001B[1;32m    746\u001B[0m     )  \u001B[38;5;66;03m# Calls into the C++ engine to run the backward pass\u001B[39;00m\n\u001B[1;32m    747\u001B[0m \u001B[38;5;28;01mfinally\u001B[39;00m:\n\u001B[1;32m    748\u001B[0m     \u001B[38;5;28;01mif\u001B[39;00m attach_logging_hooks:\n",
      "\u001B[0;31mKeyboardInterrupt\u001B[0m: "
     ]
    }
   ],
   "execution_count": 42
  },
  {
   "metadata": {},
   "cell_type": "code",
   "outputs": [],
   "execution_count": null,
   "source": "",
   "id": "af2b5b24de6e7d94"
  }
 ],
 "metadata": {
  "kernelspec": {
   "display_name": "Python 3 (ipykernel)",
   "language": "python",
   "name": "python3"
  },
  "language_info": {
   "codemirror_mode": {
    "name": "ipython",
    "version": 3
   },
   "file_extension": ".py",
   "mimetype": "text/x-python",
   "name": "python",
   "nbconvert_exporter": "python",
   "pygments_lexer": "ipython3",
   "version": "3.11.9"
  }
 },
 "nbformat": 4,
 "nbformat_minor": 5
}
